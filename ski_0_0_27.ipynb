{
  "nbformat": 4,
  "nbformat_minor": 0,
  "metadata": {
    "colab": {
      "name": "ski 0.0.27.ipynb",
      "provenance": [],
      "collapsed_sections": [],
      "include_colab_link": true
    },
    "kernelspec": {
      "name": "python3",
      "display_name": "Python 3"
    }
  },
  "cells": [
    {
      "cell_type": "markdown",
      "metadata": {
        "id": "view-in-github",
        "colab_type": "text"
      },
      "source": [
        "<a href=\"https://colab.research.google.com/github/papillonbee/ski/blob/master/ski_0_0_27.ipynb\" target=\"_parent\"><img src=\"https://colab.research.google.com/assets/colab-badge.svg\" alt=\"Open In Colab\"/></a>"
      ]
    },
    {
      "cell_type": "code",
      "metadata": {
        "id": "hdtlebiSRlzC",
        "colab_type": "code",
        "outputId": "7ee09917-7ec2-4c60-c8cf-c8365bb8ca44",
        "colab": {
          "base_uri": "https://localhost:8080/",
          "height": 88
        }
      },
      "source": [
        "!pip install ski"
      ],
      "execution_count": 1,
      "outputs": [
        {
          "output_type": "stream",
          "text": [
            "Collecting ski\n",
            "  Downloading https://files.pythonhosted.org/packages/83/11/34a9ca5f9379d33451b509d89b01bd6797dba55a10b64ac766f8d407976c/ski-0.0.27-py3-none-any.whl\n",
            "Installing collected packages: ski\n",
            "Successfully installed ski-0.0.27\n"
          ],
          "name": "stdout"
        }
      ]
    },
    {
      "cell_type": "code",
      "metadata": {
        "id": "CmQmL-wWYIhX",
        "colab_type": "code",
        "colab": {}
      },
      "source": [
        "from ski import ski"
      ],
      "execution_count": 0,
      "outputs": []
    },
    {
      "cell_type": "code",
      "metadata": {
        "id": "uAF7d8j2YLN1",
        "colab_type": "code",
        "colab": {}
      },
      "source": [
        "ski.set_params(sales=3,wholesale=5,retail=7,r=.1,alpha=1/(1+.1),N=7,M=20,lam=10)"
      ],
      "execution_count": 0,
      "outputs": []
    },
    {
      "cell_type": "markdown",
      "metadata": {
        "id": "NSb8QLV14MOD",
        "colab_type": "text"
      },
      "source": [
        "## Solve with MDP"
      ]
    },
    {
      "cell_type": "code",
      "metadata": {
        "id": "j_3p5VWIYNUN",
        "colab_type": "code",
        "colab": {}
      },
      "source": [
        "sol = ski.solve()"
      ],
      "execution_count": 0,
      "outputs": []
    },
    {
      "cell_type": "code",
      "metadata": {
        "id": "Jx4o8PJSbWQa",
        "colab_type": "code",
        "outputId": "e020b54f-aaf4-433a-d8cc-99fe0de24782",
        "colab": {
          "base_uri": "https://localhost:8080/",
          "height": 390
        }
      },
      "source": [
        "sol.reward[(1,0)]"
      ],
      "execution_count": 5,
      "outputs": [
        {
          "output_type": "execute_result",
          "data": {
            "text/plain": [
              "{0: 25.0826294305045,\n",
              " 1: 25.991637794268566,\n",
              " 2: 26.899820704764224,\n",
              " 3: 27.80387634891784,\n",
              " 4: 28.694174438597976,\n",
              " 5: 29.550078642094405,\n",
              " 6: 30.337195073223448,\n",
              " 7: 31.009665217073476,\n",
              " 8: 31.51835495052493,\n",
              " 9: 31.82231917097817,\n",
              " 10: 31.898810599211213,\n",
              " 11: 31.74782300356383,\n",
              " 12: 31.389971106000615,\n",
              " 13: 30.859387245017146,\n",
              " 14: 30.194701153898137,\n",
              " 15: 29.43089402583,\n",
              " 16: 28.59370378987264,\n",
              " 17: 27.697161043801337,\n",
              " 18: 26.74408134560035,\n",
              " 19: 25.72884147283144,\n",
              " 20: 24.641410945664873}"
            ]
          },
          "metadata": {
            "tags": []
          },
          "execution_count": 5
        }
      ]
    },
    {
      "cell_type": "code",
      "metadata": {
        "id": "DEzQQxKYYgC3",
        "colab_type": "code",
        "outputId": "c0802d8b-d3ab-41bd-e2a7-755361aabd1d",
        "colab": {
          "base_uri": "https://localhost:8080/",
          "height": 35
        }
      },
      "source": [
        "sol.opt_reward[(1,0)]"
      ],
      "execution_count": 6,
      "outputs": [
        {
          "output_type": "execute_result",
          "data": {
            "text/plain": [
              "31.898810599211213"
            ]
          },
          "metadata": {
            "tags": []
          },
          "execution_count": 6
        }
      ]
    },
    {
      "cell_type": "code",
      "metadata": {
        "id": "46XS2nyDf07M",
        "colab_type": "code",
        "outputId": "79a1efda-972b-44ec-c5e3-72e2dcde9dff",
        "colab": {
          "base_uri": "https://localhost:8080/",
          "height": 35
        }
      },
      "source": [
        "sol.opt_action[(1,0)]"
      ],
      "execution_count": 7,
      "outputs": [
        {
          "output_type": "execute_result",
          "data": {
            "text/plain": [
              "10"
            ]
          },
          "metadata": {
            "tags": []
          },
          "execution_count": 7
        }
      ]
    },
    {
      "cell_type": "markdown",
      "metadata": {
        "id": "gA56EzMA4PqN",
        "colab_type": "text"
      },
      "source": [
        "## Solve with MC"
      ]
    },
    {
      "cell_type": "code",
      "metadata": {
        "colab_type": "code",
        "id": "n-roeJ9L7gYI",
        "colab": {}
      },
      "source": [
        "ski.mc.initialize()"
      ],
      "execution_count": 0,
      "outputs": []
    },
    {
      "cell_type": "code",
      "metadata": {
        "id": "C18p-mW0ZeR4",
        "colab_type": "code",
        "outputId": "3443cae0-db90-4981-f41c-6eb22a464ec8",
        "colab": {
          "base_uri": "https://localhost:8080/",
          "height": 694
        }
      },
      "source": [
        "for j in range(10):\n",
        "  sol = ski.solve(method='mc',keep_result=True,epsilon_greedy='decayed',seed=1234)\n",
        "  \n",
        "  print(sol.opt_reward[(1,0)],sol.opt_action[(1,0)])\n",
        "\n",
        "  visit = sol.visit[(1,0)]\n",
        "  visit = [(key,visit[key]) for key in visit]\n",
        "  visit.sort(key=lambda x: x[1],reverse=True)\n",
        "  print(visit)\n",
        "\n",
        "i = max([i for i in range(len(sol.y))],key=lambda i: sol.y[i])\n",
        "print(i)\n",
        "print(sol.y[i])\n",
        "print(sol.a[i])\n",
        "\n",
        "sol.plot()"
      ],
      "execution_count": 12,
      "outputs": [
        {
          "output_type": "stream",
          "text": [
            "28.32035961326702 9\n",
            "[(9, 7466), (8, 338), (13, 135), (16, 132), (10, 129), (6, 128), (5, 126), (14, 125), (17, 123), (1, 120), (19, 117), (7, 115), (4, 115), (20, 113), (12, 113), (15, 112), (11, 108), (0, 106), (2, 100), (3, 92), (18, 87)]\n",
            "29.155893412587417 9\n",
            "[(9, 16846), (8, 367), (13, 163), (16, 163), (5, 162), (10, 161), (6, 158), (4, 155), (14, 155), (1, 153), (17, 150), (15, 148), (19, 147), (12, 144), (7, 144), (20, 139), (2, 139), (0, 137), (11, 135), (18, 117), (3, 117)]\n",
            "29.522289563125078 9\n",
            "[(9, 26481), (8, 387), (13, 188), (5, 185), (16, 183), (10, 180), (1, 176), (6, 174), (17, 171), (4, 171), (14, 169), (20, 164), (12, 162), (19, 161), (7, 161), (15, 158), (0, 158), (11, 151), (2, 150), (18, 135), (3, 135)]\n",
            "29.742825273091498 9\n",
            "[(9, 36210), (8, 401), (13, 205), (5, 201), (16, 199), (10, 195), (6, 192), (1, 188), (17, 184), (4, 181), (14, 179), (12, 178), (20, 176), (7, 175), (0, 171), (15, 170), (19, 169), (11, 168), (2, 160), (18, 152), (3, 146)]\n",
            "29.883015727880018 9\n",
            "[(9, 45994), (8, 410), (13, 218), (16, 213), (5, 209), (10, 207), (6, 205), (1, 198), (17, 196), (12, 195), (20, 188), (4, 188), (7, 186), (0, 185), (14, 185), (15, 181), (11, 176), (19, 175), (2, 172), (18, 164), (3, 155)]\n",
            "29.97995151808178 9\n",
            "[(9, 55836), (8, 418), (16, 224), (13, 223), (10, 219), (6, 215), (5, 214), (1, 211), (17, 205), (12, 203), (7, 198), (4, 195), (0, 194), (20, 191), (14, 191), (15, 187), (11, 185), (19, 181), (2, 179), (18, 174), (3, 157)]\n",
            "30.049192417781747 9\n",
            "[(9, 65682), (8, 425), (13, 236), (16, 232), (10, 228), (5, 222), (6, 221), (1, 220), (12, 214), (17, 209), (4, 205), (7, 204), (0, 201), (14, 199), (20, 197), (15, 193), (11, 192), (19, 188), (2, 188), (18, 182), (3, 162)]\n",
            "30.107762274734142 9\n",
            "[(9, 75559), (8, 432), (13, 240), (16, 238), (10, 232), (6, 229), (5, 229), (1, 226), (12, 222), (17, 216), (4, 212), (0, 210), (7, 207), (20, 204), (14, 204), (15, 198), (11, 198), (19, 196), (2, 193), (18, 188), (3, 167)]\n",
            "30.169701488352853 9\n",
            "[(9, 85452), (8, 436), (13, 249), (16, 244), (10, 236), (5, 234), (6, 233), (12, 231), (1, 230), (17, 219), (0, 216), (4, 214), (7, 210), (20, 209), (14, 208), (19, 206), (15, 203), (11, 202), (2, 201), (18, 196), (3, 171)]\n",
            "30.2147838779164 9\n",
            "[(9, 95355), (8, 440), (13, 255), (16, 249), (12, 241), (10, 240), (5, 240), (6, 238), (1, 236), (17, 225), (0, 221), (4, 216), (20, 215), (14, 212), (7, 211), (11, 209), (19, 209), (15, 206), (2, 205), (18, 199), (3, 178)]\n",
            "99995\n",
            "30.214877813336752\n",
            "9\n"
          ],
          "name": "stdout"
        },
        {
          "output_type": "display_data",
          "data": {
            "image/png": "[encoded data removed]",
            "text/plain": [
              "<Figure size 432x288 with 1 Axes>"
            ]
          },
          "metadata": {
            "tags": []
          }
        }
      ]
    },
    {
      "cell_type": "markdown",
      "metadata": {
        "id": "icVFTu024WD7",
        "colab_type": "text"
      },
      "source": [
        "## Solve with SARSA"
      ]
    },
    {
      "cell_type": "code",
      "metadata": {
        "colab_type": "code",
        "id": "XFT6XRGc7gAI",
        "colab": {}
      },
      "source": [
        "ski.td.initialize()"
      ],
      "execution_count": 0,
      "outputs": []
    },
    {
      "cell_type": "code",
      "metadata": {
        "id": "4WzlT-fF-fHV",
        "colab_type": "code",
        "outputId": "15cc1c62-0ca4-4f70-f98a-21e2159a993e",
        "colab": {
          "base_uri": "https://localhost:8080/",
          "height": 694
        }
      },
      "source": [
        "for j in range(10):\n",
        "  sol = ski.solve(method='td',keep_result=True,epsilon_greedy='decayed',seed=1234)\n",
        "  \n",
        "  print(sol.opt_reward[(1,0)],sol.opt_action[(1,0)])\n",
        "\n",
        "  visit = sol.visit[(1,0)]\n",
        "  visit = [(key,visit[key]) for key in visit]\n",
        "  visit.sort(key=lambda x: x[1],reverse=True)\n",
        "  print(visit)\n",
        "\n",
        "i = max([i for i in range(len(sol.y))],key=lambda i: sol.y[i])\n",
        "print(i)\n",
        "print(sol.y[i])\n",
        "print(sol.a[i])\n",
        "\n",
        "sol.plot()"
      ],
      "execution_count": 14,
      "outputs": [
        {
          "output_type": "stream",
          "text": [
            "14.690004021617622 6\n",
            "[(7, 1106), (8, 846), (9, 790), (6, 752), (5, 616), (10, 579), (11, 498), (4, 444), (12, 389), (3, 376), (1, 364), (0, 346), (2, 344), (20, 341), (18, 338), (17, 320), (13, 319), (19, 315), (15, 309), (16, 304), (14, 304)]\n",
            "23.476813764221212 9\n",
            "[(8, 2503), (7, 2174), (9, 2131), (6, 1781), (10, 1560), (5, 1004), (11, 942), (4, 796), (12, 693), (3, 595), (13, 579), (1, 565), (0, 556), (2, 548), (20, 531), (19, 522), (18, 515), (15, 507), (14, 505), (17, 500), (16, 493)]\n",
            "24.12443653259022 6\n",
            "[(7, 4243), (8, 3806), (9, 3422), (6, 3231), (10, 2469), (11, 1532), (5, 1224), (4, 958), (12, 888), (13, 822), (3, 727), (1, 703), (2, 698), (0, 694), (20, 687), (14, 676), (16, 654), (19, 654), (15, 641), (17, 637), (18, 634)]\n",
            "27.873012158045523 10\n",
            "[(8, 6330), (9, 5845), (7, 5165), (6, 3852), (10, 3438), (11, 2210), (5, 1406), (12, 1080), (4, 1076), (13, 1016), (3, 836), (1, 807), (0, 803), (14, 802), (2, 797), (20, 787), (16, 768), (15, 763), (19, 747), (18, 739), (17, 733)]\n",
            "26.076913207658407 10\n",
            "[(8, 8698), (9, 7977), (7, 6534), (10, 4890), (6, 4110), (11, 3132), (5, 1509), (12, 1207), (4, 1180), (13, 1158), (3, 924), (14, 913), (1, 896), (2, 894), (0, 890), (20, 872), (15, 872), (16, 851), (18, 840), (19, 828), (17, 825)]\n",
            "27.746379568117582 9\n",
            "[(8, 11917), (9, 9522), (7, 7386), (10, 6739), (6, 4630), (11, 3658), (5, 1590), (12, 1503), (13, 1337), (4, 1254), (14, 1013), (3, 1006), (0, 981), (15, 977), (2, 974), (1, 971), (20, 956), (16, 916), (18, 897), (19, 889), (17, 884)]\n",
            "29.167257808274947 9\n",
            "[(8, 14366), (9, 11280), (7, 9129), (10, 7849), (6, 5057), (11, 4789), (12, 1890), (5, 1702), (13, 1448), (4, 1326), (14, 1094), (3, 1075), (15, 1046), (0, 1039), (2, 1034), (1, 1032), (20, 1016), (16, 976), (18, 960), (17, 951), (19, 941)]\n",
            "27.151133268532245 8\n",
            "[(8, 16088), (9, 13359), (7, 11313), (10, 9517), (6, 5423), (11, 5370), (12, 2379), (5, 1762), (13, 1604), (4, 1403), (14, 1155), (3, 1117), (15, 1111), (1, 1102), (2, 1091), (0, 1080), (20, 1074), (16, 1028), (18, 1022), (17, 1005), (19, 997)]\n",
            "29.1800411453575 10\n",
            "[(8, 17735), (9, 16444), (7, 12858), (10, 11396), (6, 5770), (11, 5684), (12, 2708), (5, 1823), (13, 1740), (4, 1465), (14, 1222), (15, 1181), (3, 1168), (1, 1149), (2, 1142), (20, 1140), (0, 1123), (16, 1082), (18, 1082), (17, 1050), (19, 1038)]\n",
            "28.48693423178069 10\n",
            "[(8, 19698), (9, 18536), (7, 15413), (10, 12087), (6, 6848), (11, 6187), (12, 3050), (5, 1889), (13, 1865), (4, 1528), (14, 1281), (15, 1242), (3, 1215), (2, 1190), (1, 1184), (0, 1173), (20, 1170), (18, 1130), (16, 1117), (17, 1104), (19, 1093)]\n",
            "82182\n",
            "31.723183549599256\n",
            "10\n"
          ],
          "name": "stdout"
        },
        {
          "output_type": "display_data",
          "data": {
            "image/png": "[encoded data removed]",
            "text/plain": [
              "<Figure size 432x288 with 1 Axes>"
            ]
          },
          "metadata": {
            "tags": []
          }
        }
      ]
    },
    {
      "cell_type": "markdown",
      "metadata": {
        "id": "aV32bh4l63Bt",
        "colab_type": "text"
      },
      "source": [
        "## Solve with Q-learning"
      ]
    },
    {
      "cell_type": "code",
      "metadata": {
        "id": "hdRzTyEs7GJX",
        "colab_type": "code",
        "colab": {}
      },
      "source": [
        "ski.td.initialize()"
      ],
      "execution_count": 0,
      "outputs": []
    },
    {
      "cell_type": "code",
      "metadata": {
        "id": "7WVGF6a7-mwI",
        "colab_type": "code",
        "outputId": "29986cee-2c47-4853-b027-bd8bf6a91883",
        "colab": {
          "base_uri": "https://localhost:8080/",
          "height": 698
        }
      },
      "source": [
        "for j in range(10):\n",
        "  sol = ski.solve(method='td',policy='off',keep_result=True,epsilon_greedy='decayed',seed=1234)\n",
        "  \n",
        "  print(sol.opt_reward[(1,0)],sol.opt_action[(1,0)])\n",
        "\n",
        "  visit = sol.visit[(1,0)]\n",
        "  visit = [(key,visit[key]) for key in visit]\n",
        "  visit.sort(key=lambda x: x[1],reverse=True)\n",
        "  print(visit)\n",
        "\n",
        "i = max([i for i in range(len(sol.y))],key=lambda i: sol.y[i])\n",
        "print(i)\n",
        "print(sol.y[i])\n",
        "print(sol.a[i])\n",
        "\n",
        "sol.plot()"
      ],
      "execution_count": 16,
      "outputs": [
        {
          "output_type": "stream",
          "text": [
            "30.178746661289665 8\n",
            "[(8, 1314), (9, 864), (7, 795), (10, 728), (6, 644), (11, 542), (12, 384), (13, 372), (18, 371), (5, 362), (2, 358), (4, 346), (1, 339), (15, 337), (19, 331), (14, 327), (0, 322), (16, 320), (17, 317), (3, 316), (20, 311)]\n",
            "30.569392418194113 8\n",
            "[(8, 3441), (9, 2827), (7, 1820), (10, 1560), (11, 1074), (6, 1027), (13, 681), (12, 661), (18, 566), (14, 561), (2, 559), (5, 542), (1, 537), (3, 536), (0, 532), (15, 521), (4, 521), (17, 518), (16, 517), (19, 500), (20, 499)]\n",
            "30.626225716795673 9\n",
            "[(9, 5304), (8, 4882), (10, 2931), (7, 2722), (11, 2110), (6, 1309), (12, 988), (13, 921), (14, 725), (2, 722), (18, 702), (5, 700), (3, 694), (1, 691), (15, 681), (20, 672), (4, 670), (17, 660), (0, 654), (16, 637), (19, 625)]\n",
            "31.059490878162958 12\n",
            "[(8, 7621), (9, 7108), (10, 4485), (11, 3169), (7, 3149), (6, 1501), (12, 1373), (13, 1250), (14, 917), (2, 852), (15, 821), (18, 818), (1, 808), (5, 799), (3, 793), (20, 786), (0, 763), (4, 761), (17, 754), (16, 738), (19, 734)]\n",
            "30.09400947881917 8\n",
            "[(8, 10906), (9, 8736), (10, 5896), (11, 4014), (7, 3862), (6, 1721), (12, 1697), (13, 1614), (14, 1065), (2, 956), (18, 916), (15, 913), (1, 901), (5, 890), (3, 872), (20, 869), (0, 850), (4, 848), (17, 846), (16, 815), (19, 813)]\n",
            "30.76852442342234 8\n",
            "[(8, 13514), (9, 11350), (10, 7140), (11, 4981), (7, 4641), (12, 2078), (6, 1965), (13, 1793), (14, 1172), (2, 1043), (18, 989), (15, 984), (1, 970), (5, 963), (3, 947), (4, 936), (20, 931), (0, 926), (17, 908), (16, 892), (19, 877)]\n",
            "30.179512177686107 7\n",
            "[(8, 16355), (9, 13775), (10, 8121), (11, 6068), (7, 5922), (12, 2323), (6, 2109), (13, 1931), (14, 1255), (2, 1108), (18, 1067), (15, 1056), (1, 1033), (5, 1031), (4, 1014), (3, 1014), (20, 984), (0, 982), (17, 961), (16, 959), (19, 932)]\n",
            "29.399462583674918 7\n",
            "[(8, 18517), (9, 16465), (10, 9165), (11, 7271), (7, 6967), (12, 2813), (6, 2517), (13, 2126), (14, 1364), (2, 1158), (15, 1129), (18, 1127), (1, 1091), (5, 1082), (3, 1070), (4, 1053), (0, 1036), (20, 1036), (16, 1028), (17, 1005), (19, 980)]\n",
            "31.287797096843526 9\n",
            "[(8, 21457), (9, 18097), (10, 10523), (7, 9089), (11, 7979), (12, 2944), (6, 2761), (13, 2304), (14, 1420), (2, 1211), (15, 1194), (18, 1176), (1, 1148), (5, 1123), (3, 1121), (4, 1114), (0, 1095), (20, 1084), (16, 1072), (17, 1053), (19, 1035)]\n",
            "31.73307128679999 12\n",
            "[(8, 23383), (9, 21387), (10, 12043), (7, 10068), (11, 9064), (12, 3220), (6, 3015), (13, 2362), (14, 1508), (2, 1257), (15, 1243), (18, 1228), (1, 1198), (3, 1161), (4, 1159), (5, 1155), (0, 1135), (20, 1123), (16, 1110), (17, 1092), (19, 1089)]\n",
            "19713\n",
            "33.481098826374975\n",
            "11\n"
          ],
          "name": "stdout"
        },
        {
          "output_type": "display_data",
          "data": {
            "image/png": "[encoded data removed]",
            "text/plain": [
              "<Figure size 432x288 with 1 Axes>"
            ]
          },
          "metadata": {
            "tags": []
          }
        }
      ]
    }
  ]
}